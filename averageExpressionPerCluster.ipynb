{
 "cells": [
  {
   "cell_type": "code",
   "execution_count": 1,
   "metadata": {},
   "outputs": [],
   "source": [
    "import scanpy as sc\n",
    "import pandas as pd\n",
    "ad = sc.read_text(\"exprMatrix.tsv.gz\")\n",
    "meta = pd.read_csv(\"meta.tsv\", sep=\"\\t\")\n",
    "ad.var = meta"
   ]
  },
  {
   "cell_type": "code",
   "execution_count": null,
   "metadata": {},
   "outputs": [],
   "source": [
    "print(ad.var.columns)\n",
    "print(ad)"
   ]
  },
  {
   "cell_type": "markdown",
   "metadata": {},
   "source": [
    "First, we find the list of cluster names:"
   ]
  },
  {
   "cell_type": "code",
   "execution_count": 4,
   "metadata": {},
   "outputs": [
    {
     "name": "stdout",
     "output_type": "stream",
     "text": [
      "List of Cluster Names:\n",
      "{'CN2', 'CN4', 'OPC/OL', 'AS2', 'ME', 'CBC', 'CN1', 'AS1', 'GPC', 'NEC1', 'NEC3', 'BRC', 'CN3', 'CN5', 'NEC2', 'AS3', 'UPRC1', 'UPRC2', 'Neuron', 'PGC2', 'IN', 'Inter', 'PGC1', 'NEC4'}\n"
     ]
    }
   ],
   "source": [
    "clusterNameSet = set(ad.var['Cluster_name'])\n",
    "print('List of Cluster Names:')\n",
    "print(clusterNameSet)"
   ]
  },
  {
   "cell_type": "markdown",
   "metadata": {},
   "source": [
    "Second, we need a way to get the average expression value for a gene for all cells in a cluster:"
   ]
  },
  {
   "cell_type": "code",
   "execution_count": 35,
   "metadata": {},
   "outputs": [
    {
     "name": "stdout",
     "output_type": "stream",
     "text": [
      "0.39188185\n"
     ]
    }
   ],
   "source": [
    "def getAvgExprForGeneInCluster(gene, cluster):\n",
    "    exprFrameForCluster = ad[ad.obs.index == gene, ad.var['Cluster_name'] == cluster].X\n",
    "    return exprFrameForCluster.mean()\n",
    "\n",
    "print(getAvgExprForGeneInCluster('SOX2','CN3')) "
   ]
  },
  {
   "cell_type": "markdown",
   "metadata": {},
   "source": [
    "Third, we combine the average expression values for a gene for a cluster in a dataframe:"
   ]
  },
  {
   "cell_type": "code",
   "execution_count": null,
   "metadata": {},
   "outputs": [],
   "source": []
  }
 ],
 "metadata": {
  "kernelspec": {
   "display_name": "Python 3",
   "language": "python",
   "name": "python3"
  },
  "language_info": {
   "codemirror_mode": {
    "name": "ipython",
    "version": 3
   },
   "file_extension": ".py",
   "mimetype": "text/x-python",
   "name": "python",
   "nbconvert_exporter": "python",
   "pygments_lexer": "ipython3",
   "version": "3.7.6"
  }
 },
 "nbformat": 4,
 "nbformat_minor": 4
}
