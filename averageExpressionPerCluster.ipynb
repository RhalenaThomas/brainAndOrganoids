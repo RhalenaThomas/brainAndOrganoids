{
 "cells": [
  {
   "cell_type": "code",
   "execution_count": 1,
   "metadata": {},
   "outputs": [],
   "source": [
    "import scanpy as sc\n",
    "import pandas as pd\n",
    "ad = sc.read_text(\"exprMatrix.tsv.gz\")\n",
    "meta = pd.read_csv(\"meta.tsv\", sep=\"\\t\")\n",
    "ad.var = meta"
   ]
  },
  {
   "cell_type": "code",
   "execution_count": 3,
   "metadata": {},
   "outputs": [
    {
     "name": "stdout",
     "output_type": "stream",
     "text": [
      "Index(['cellId', 'nCount_RNA', 'nFeature_RNA', 'Cluster', 'Cluster_name',\n",
      "       'Annotation', 'Dataset', 'Protocol', 'Age'],\n",
      "      dtype='object')\n",
      "AnnData object with n_obs × n_vars = 2000 × 190022\n",
      "    var: 'cellId', 'nCount_RNA', 'nFeature_RNA', 'Cluster', 'Cluster_name', 'Annotation', 'Dataset', 'Protocol', 'Age'\n"
     ]
    }
   ],
   "source": [
    "print(ad.var.columns)\n",
    "print(ad)"
   ]
  },
  {
   "cell_type": "markdown",
   "metadata": {},
   "source": [
    "First, we find the list of cluster names:"
   ]
  },
  {
   "cell_type": "code",
   "execution_count": null,
   "metadata": {},
   "outputs": [],
   "source": [
    "#clusterNameSet = set(sc.get.var_df(ad, ['Cluster_name']).get('Cluster_name').tolist())\n",
    "clusterNameSet = set(ad.var['Cluster_name'])\n",
    "print('List of Cluster Names:')\n",
    "print(clusterNameSet)"
   ]
  },
  {
   "cell_type": "markdown",
   "metadata": {},
   "source": [
    "Second, we get a list of cells for each cluster name:"
   ]
  },
  {
   "cell_type": "code",
   "execution_count": null,
   "metadata": {},
   "outputs": [],
   "source": [
    "cellAndClusterDataframe = sc.get.var_df(ad, ['Cluster_name', 'cellId'])\n",
    "print('This is the Dataframe:')\n",
    "print(cellAndClusterDataframe)\n",
    "print(cellAndClusterDataframe[cellAndClusterDataframe['Cluster_name'].isin(['CN3'])])"
   ]
  },
  {
   "cell_type": "code",
   "execution_count": 47,
   "metadata": {},
   "outputs": [
    {
     "ename": "AttributeError",
     "evalue": "'NoneType' object has no attribute 'to_list'",
     "output_type": "error",
     "traceback": [
      "\u001b[0;31m---------------------------------------------------------------------------\u001b[0m",
      "\u001b[0;31mAttributeError\u001b[0m                            Traceback (most recent call last)",
      "\u001b[0;32m<ipython-input-47-855d3641e05a>\u001b[0m in \u001b[0;36m<module>\u001b[0;34m\u001b[0m\n\u001b[1;32m      7\u001b[0m     \u001b[0;32mreturn\u001b[0m \u001b[0mcellIdListForCluster\u001b[0m\u001b[0;34m\u001b[0m\u001b[0;34m\u001b[0m\u001b[0m\n\u001b[1;32m      8\u001b[0m \u001b[0;34m\u001b[0m\u001b[0m\n\u001b[0;32m----> 9\u001b[0;31m \u001b[0mprint\u001b[0m\u001b[0;34m(\u001b[0m\u001b[0mgetCellIdListForCluster\u001b[0m\u001b[0;34m(\u001b[0m\u001b[0;34m'CN3'\u001b[0m\u001b[0;34m)\u001b[0m\u001b[0;34m)\u001b[0m\u001b[0;34m\u001b[0m\u001b[0;34m\u001b[0m\u001b[0m\n\u001b[0m",
      "\u001b[0;32m<ipython-input-47-855d3641e05a>\u001b[0m in \u001b[0;36mgetCellIdListForCluster\u001b[0;34m(cluster)\u001b[0m\n\u001b[1;32m      4\u001b[0m     \u001b[0mcellAndClusterDataframe\u001b[0m \u001b[0;34m=\u001b[0m \u001b[0msc\u001b[0m\u001b[0;34m.\u001b[0m\u001b[0mget\u001b[0m\u001b[0;34m.\u001b[0m\u001b[0mvar_df\u001b[0m\u001b[0;34m(\u001b[0m\u001b[0mad\u001b[0m\u001b[0;34m,\u001b[0m \u001b[0;34m[\u001b[0m\u001b[0;34m'Cluster_name'\u001b[0m\u001b[0;34m,\u001b[0m \u001b[0;34m'cellId'\u001b[0m\u001b[0;34m]\u001b[0m\u001b[0;34m)\u001b[0m\u001b[0;34m\u001b[0m\u001b[0;34m\u001b[0m\u001b[0m\n\u001b[1;32m      5\u001b[0m     cellIdListForCluster = cellAndClusterDataframe[cellAndClusterDataframe['Cluster_name'] \\\n\u001b[0;32m----> 6\u001b[0;31m                                                    .isin([cluster])].get('CellId').to_list()\n\u001b[0m\u001b[1;32m      7\u001b[0m     \u001b[0;32mreturn\u001b[0m \u001b[0mcellIdListForCluster\u001b[0m\u001b[0;34m\u001b[0m\u001b[0;34m\u001b[0m\u001b[0m\n\u001b[1;32m      8\u001b[0m \u001b[0;34m\u001b[0m\u001b[0m\n",
      "\u001b[0;31mAttributeError\u001b[0m: 'NoneType' object has no attribute 'to_list'"
     ]
    }
   ],
   "source": [
    "# could possibly do the below function using\n",
    "# varm argument in sc.get.var_df function\n",
    "def getCellIdListForCluster(cluster):\n",
    "    cellAndClusterDataframe = sc.get.var_df(ad, ['Cluster_name', 'cellId'])\n",
    "    cellIdListForCluster = cellAndClusterDataframe[cellAndClusterDataframe['Cluster_name'] \\\n",
    "                                                   .isin([cluster])].get('CellId').to_list()\n",
    "    return cellIdListForCluster\n",
    "\n",
    "print(getCellIdListForCluster('CN3'))  "
   ]
  },
  {
   "cell_type": "code",
   "execution_count": null,
   "metadata": {},
   "outputs": [],
   "source": []
  }
 ],
 "metadata": {
  "kernelspec": {
   "display_name": "Python 3",
   "language": "python",
   "name": "python3"
  },
  "language_info": {
   "codemirror_mode": {
    "name": "ipython",
    "version": 3
   },
   "file_extension": ".py",
   "mimetype": "text/x-python",
   "name": "python",
   "nbconvert_exporter": "python",
   "pygments_lexer": "ipython3",
   "version": "3.7.6"
  }
 },
 "nbformat": 4,
 "nbformat_minor": 4
}
